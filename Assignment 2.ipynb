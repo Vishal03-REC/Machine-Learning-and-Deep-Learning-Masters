{
  "nbformat": 4,
  "nbformat_minor": 0,
  "metadata": {
    "colab": {
      "name": "Assignment2.ipynb",
      "provenance": [],
      "collapsed_sections": [],
      "authorship_tag": "ABX9TyMRLvu5/7kL/Jf33rpf7p34"
    },
    "kernelspec": {
      "name": "python3",
      "display_name": "Python 3"
    },
    "language_info": {
      "name": "python"
    }
  },
  "cells": [
    {
      "cell_type": "markdown",
      "source": [
        "#Assignment 2\n",
        "\n"
      ],
      "metadata": {
        "id": "-7ZGWHxhFvgh"
      }
    },
    {
      "cell_type": "markdown",
      "source": [
        "Ques 1: Create the below pattern using nested for loop in python.\n",
        "\n",
        "        *\n",
        "        **\n",
        "        ***\n",
        "        ****\n",
        "        *****\n",
        "        ****\n",
        "        ***\n",
        "        **\n",
        "        *"
      ],
      "metadata": {
        "id": "4wEZlca1F5Hp"
      }
    },
    {
      "cell_type": "code",
      "execution_count": 1,
      "metadata": {
        "colab": {
          "base_uri": "https://localhost:8080/"
        },
        "id": "LS9QDKWTFeZB",
        "outputId": "dac77186-87cf-46ee-c167-723080521cef"
      },
      "outputs": [
        {
          "output_type": "stream",
          "name": "stdout",
          "text": [
            "\n",
            "* \n",
            "* * \n",
            "* * * \n",
            "* * * * \n",
            "* * * * * \n",
            "* * * * \n",
            "* * * \n",
            "* * \n",
            "* \n"
          ]
        }
      ],
      "source": [
        "n=5;\n",
        "for i in range(n):\n",
        "    for j in range(i):\n",
        "        print ('* ', end=\"\")\n",
        "    print('')\n",
        "\n",
        "for i in range(n,0,-1):\n",
        "    for j in range(i):\n",
        "        print('* ', end=\"\")\n",
        "    print('')"
      ]
    },
    {
      "cell_type": "markdown",
      "source": [
        "Ques 2: Write a python program to reverse a word after accepting the input from the user."
      ],
      "metadata": {
        "id": "8aUPXezaGth4"
      }
    },
    {
      "cell_type": "code",
      "source": [
        "word = input(\"Input a word to reverse: \")\n",
        "\n",
        "for char in range(len(word) - 1, -1, -1):\n",
        "  print(word[char], end=\"\")\n",
        "print(\"\\n\")"
      ],
      "metadata": {
        "colab": {
          "base_uri": "https://localhost:8080/"
        },
        "id": "pIQms0GZGQ6i",
        "outputId": "d97c7cf0-a938-41f2-9e22-deec7bf6395b"
      },
      "execution_count": 2,
      "outputs": [
        {
          "output_type": "stream",
          "name": "stdout",
          "text": [
            "Input a word to reverse: ineuron\n",
            "norueni\n",
            "\n"
          ]
        }
      ]
    },
    {
      "cell_type": "code",
      "source": [
        ""
      ],
      "metadata": {
        "id": "adGFqmQ4HZ-L"
      },
      "execution_count": null,
      "outputs": []
    }
  ]
}